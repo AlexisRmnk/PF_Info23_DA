{
 "cells": [
  {
   "cell_type": "markdown",
   "metadata": {},
   "source": [
    "# Proyecto Final - Archivo MAIN"
   ]
  },
  {
   "cell_type": "code",
   "execution_count": 4,
   "metadata": {},
   "outputs": [],
   "source": [
    "import pandas as pd\n",
    "import json, requests, sqlalchemy\n",
    "import datetime\n",
    "from pandas import json_normalize\n",
    "from credenciales import API_KEY"
   ]
  },
  {
   "cell_type": "code",
   "execution_count": 30,
   "metadata": {},
   "outputs": [
    {
     "name": "stdout",
     "output_type": "stream",
     "text": [
      "El DataFrame ha sido guardado en tiempodiario_London_20230801.\n",
      "El DataFrame ha sido guardado en tiempodiario_New_York_20230801.\n",
      "El DataFrame ha sido guardado en tiempodiario_Cordoba_20230801.\n",
      "El DataFrame ha sido guardado en tiempodiario_Taipei_20230801.\n",
      "El DataFrame ha sido guardado en tiempodiario_Buenos_Aires_20230801.\n",
      "El DataFrame ha sido guardado en tiempodiario_Mexico_DF_20230801.\n",
      "El DataFrame ha sido guardado en tiempodiario_Dublin_20230801.\n",
      "El DataFrame ha sido guardado en tiempodiario_Tilfis_20230801.\n",
      "El DataFrame ha sido guardado en tiempodiario_Bogota_20230801.\n",
      "El DataFrame ha sido guardado en tiempodiario_Tokio_20230801.\n"
     ]
    }
   ],
   "source": [
    "\n",
    "\n",
    "API_key=API_KEY\n",
    "cityList = [\"London\", \"New_York\", \"Cordoba\", \"Taipei\", \"Buenos_Aires\", \"Mexico_DF\", \"Dublin\", \"Tilfis\", \"Bogota\", \"Tokio\"]\n",
    "coordList = [\"lat=31&lon=64\", \"lat=40&lon=-73\", \"lat=-31&lon=-64\", \"lat=25&lon=64\", \"lat=-34&lon=-58\", \"lat=19&lon=-99\", \"lat=53&lon=6\", \"lat=41&lon=44\", \"lat=4&lon=74\", \"lat=35&lon=139\"]\n",
    "\n",
    "\n",
    "if __name__ == '__main__':\n",
    "      #itero las listas\n",
    "  for city,coord in zip(cityList, coordList):\n",
    "      url = f'http://api.openweathermap.org/data/2.5/weather?{coord}&appid={API_key}&units=metric'\n",
    "\n",
    "      response = requests.get(url)\n",
    "      if response.status_code == 200:\n",
    "        response_json = response.json()\n",
    "        unix_timestamp = response_json['dt']\n",
    "\n",
    "       # sacar fecha actual\n",
    "        fecha_actual = datetime.datetime.now().strftime(\"%Y%m%d\")\n",
    "       \n",
    "       \n",
    "        # convierte json en datframe\n",
    "        df=json_normalize(response_json)\n",
    "        #se guarda en archivo csv\n",
    "      \n",
    "        path=f'tiempodiario_{city}_{fecha_actual}'\n",
    "        with open(path , 'w') as outfile:\n",
    "            df.to_csv(path,index=False) \n",
    "\n",
    "        print(f\"El DataFrame ha sido guardado en {path}.\")\n"
   ]
  }
 ],
 "metadata": {
  "kernelspec": {
   "display_name": "env01",
   "language": "python",
   "name": "python3"
  },
  "language_info": {
   "codemirror_mode": {
    "name": "ipython",
    "version": 3
   },
   "file_extension": ".py",
   "mimetype": "text/x-python",
   "name": "python",
   "nbconvert_exporter": "python",
   "pygments_lexer": "ipython3",
   "version": "3.11.3"
  },
  "orig_nbformat": 4
 },
 "nbformat": 4,
 "nbformat_minor": 2
}

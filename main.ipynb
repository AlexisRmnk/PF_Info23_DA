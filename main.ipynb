{
 "cells": [
  {
   "cell_type": "markdown",
   "metadata": {},
   "source": [
    "# Proyecto Final - Archivo MAIN"
   ]
  },
  {
   "cell_type": "code",
   "execution_count": 12,
   "metadata": {},
   "outputs": [],
   "source": [
    "# Importacion librerias\n",
    "\n",
    "import requests\n",
    "import datetime\n",
    "from pandas import json_normalize\n",
    "from credenciales import API_KEY\n",
    "import os"
   ]
  },
  {
   "cell_type": "code",
   "execution_count": 19,
   "metadata": {},
   "outputs": [
    {
     "name": "stdout",
     "output_type": "stream",
     "text": [
      "El DataFrame ha sido guardado en ./data_analytics/openweather/tiempodiario_London_20230809.csv.\n",
      "El DataFrame ha sido guardado en ./data_analytics/openweather/tiempodiario_New_York_20230809.csv.\n",
      "El DataFrame ha sido guardado en ./data_analytics/openweather/tiempodiario_Cordoba_20230809.csv.\n",
      "El DataFrame ha sido guardado en ./data_analytics/openweather/tiempodiario_Taipei_20230809.csv.\n",
      "El DataFrame ha sido guardado en ./data_analytics/openweather/tiempodiario_Buenos_Aires_20230809.csv.\n",
      "El DataFrame ha sido guardado en ./data_analytics/openweather/tiempodiario_Mexico_DF_20230809.csv.\n",
      "El DataFrame ha sido guardado en ./data_analytics/openweather/tiempodiario_Dublin_20230809.csv.\n",
      "El DataFrame ha sido guardado en ./data_analytics/openweather/tiempodiario_Tilfis_20230809.csv.\n",
      "El DataFrame ha sido guardado en ./data_analytics/openweather/tiempodiario_Bogota_20230809.csv.\n",
      "El DataFrame ha sido guardado en ./data_analytics/openweather/tiempodiario_Tokio_20230809.csv.\n"
     ]
    }
   ],
   "source": [
    "# Armado de listas de ciudades con sus respectivas coordenadas.\n",
    "cityList = [\"London\", \"New_York\", \"Cordoba\", \"Taipei\", \"Buenos_Aires\", \"Mexico_DF\", \"Dublin\", \"Tilfis\", \"Bogota\", \"Tokio\"]\n",
    "coordList = [\"lat=31&lon=64\", \"lat=40&lon=-73\", \"lat=-31&lon=-64\", \"lat=25&lon=64\", \"lat=-34&lon=-58\", \"lat=19&lon=-99\", \"lat=53&lon=6\", \"lat=41&lon=44\", \"lat=4&lon=74\", \"lat=35&lon=139\"]\n",
    "\n",
    "\n",
    "if __name__ == '__main__':\n",
    "\n",
    "# Creacion de matriz e iteracion\n",
    "    for city,coord in zip(cityList, coordList):\n",
    "        url = f'http://api.openweathermap.org/data/2.5/weather?{coord}&appid={API_KEY}&units=metric'\n",
    "\n",
    "        # Recepcion de respuesta de la API\n",
    "        response = requests.get(url)\n",
    "\n",
    "        # Comprobacion del codigo de respuesta\n",
    "        if response.status_code == 200:\n",
    "            response_json = response.json()\n",
    "\n",
    "            # Determinar fecha actual\n",
    "            fecha_actual = datetime.datetime.now().strftime(\"%Y%m%d\")\n",
    "        \n",
    "            # Conversion JSON a Dataframe de Pandas\n",
    "            df = json_normalize(response_json)\n",
    "            \n",
    "            # Verificacion de existencia de la carpeta de salida\n",
    "            folder_path = 'data_analytics/openweather'\n",
    "            if not os.path.exists(folder_path):\n",
    "                os.makedirs(folder_path)\n",
    "\n",
    "            path = f'./{folder_path}/tiempodiario_{city}_{fecha_actual}.csv'\n",
    "\n",
    "            # Escritura del archivo .csv        \n",
    "            with open(path , 'w') as outfile:\n",
    "                df.to_csv(path, index = False) \n",
    "            print(f\"El DataFrame ha sido guardado en {path}.\")\n",
    "        else:\n",
    "            print(f\"Error. Codigo {response.status_code}\")\n"
   ]
  }
 ],
 "metadata": {
  "kernelspec": {
   "display_name": "env01",
   "language": "python",
   "name": "python3"
  },
  "language_info": {
   "codemirror_mode": {
    "name": "ipython",
    "version": 3
   },
   "file_extension": ".py",
   "mimetype": "text/x-python",
   "name": "python",
   "nbconvert_exporter": "python",
   "pygments_lexer": "ipython3",
   "version": "3.11.3"
  },
  "orig_nbformat": 4
 },
 "nbformat": 4,
 "nbformat_minor": 2
}
